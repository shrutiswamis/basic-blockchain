{
  "nbformat": 4,
  "nbformat_minor": 0,
  "metadata": {
    "colab": {
      "provenance": [],
      "authorship_tag": "ABX9TyOzo9jCoyVvOJhyFBeX5mTH",
      "include_colab_link": true
    },
    "kernelspec": {
      "name": "python3",
      "display_name": "Python 3"
    },
    "language_info": {
      "name": "python"
    }
  },
  "cells": [
    {
      "cell_type": "markdown",
      "metadata": {
        "id": "view-in-github",
        "colab_type": "text"
      },
      "source": [
        "<a href=\"https://colab.research.google.com/github/shrutiswamis/basic-blockchain/blob/main/Blockchain.ipynb\" target=\"_parent\"><img src=\"https://colab.research.google.com/assets/colab-badge.svg\" alt=\"Open In Colab\"/></a>"
      ]
    },
    {
      "cell_type": "code",
      "execution_count": null,
      "metadata": {
        "id": "_VNrRhm7-OlL"
      },
      "outputs": [],
      "source": [
        "# This program simulates a blockchain."
      ]
    },
    {
      "cell_type": "code",
      "source": [
        "# Import hashlib Library\n",
        "import hashlib"
      ],
      "metadata": {
        "id": "mvRbcRl--WS1"
      },
      "execution_count": null,
      "outputs": []
    },
    {
      "cell_type": "code",
      "source": [
        "# Create a Block class\n",
        "class Block:\n",
        "  # Constructor Definition\n",
        "  def __init__(self, data, prev_hash):\n",
        "    self.data = data\n",
        "    self.prev_hash = prev_hash\n",
        "    self.hash = self.calc_hash()\n",
        "\n",
        "  # Create method to calculate the hash using SHA-256\n",
        "  def calc_hash(self):\n",
        "    sha = hashlib.sha256()\n",
        "    sha.update(self.data.encode('utf-8'))\n",
        "    return sha.hexdigest()\n"
      ],
      "metadata": {
        "id": "njEH3cud-jRR"
      },
      "execution_count": null,
      "outputs": []
    },
    {
      "cell_type": "code",
      "source": [
        "# Create Blockchain Class\n",
        "class Blockchain:\n",
        "  # Constructor Definition\n",
        "  def __init__(self):\n",
        "    self.chain = [self.create_genesis_block()]\n",
        "\n",
        "  # Create a method that creates the first block in the blockchain, the 'Genesis' Block\n",
        "  def create_genesis_block(self):\n",
        "    return Block(\"Genesis Block\", \"0\")\n",
        "\n",
        "  # Create a method to create a new block and add it to the Blockchain\n",
        "  def add_block(self, data):\n",
        "    prev_block = self.chain[-1]\n",
        "    new_block = Block(data, prev_block.hash)\n",
        "    self.chain.append(new_block)"
      ],
      "metadata": {
        "id": "H8mC4UqEBAsJ"
      },
      "execution_count": null,
      "outputs": []
    },
    {
      "cell_type": "code",
      "source": [
        "# Test the Blockchain\n",
        "blockchain = Blockchain()"
      ],
      "metadata": {
        "id": "anOyG_CdCFUY"
      },
      "execution_count": null,
      "outputs": []
    },
    {
      "cell_type": "code",
      "source": [
        "# Add data to the blockchain\n",
        "blockchain.add_block('First block')\n",
        "blockchain.add_block('Second block')\n",
        "blockchain.add_block('Third block')"
      ],
      "metadata": {
        "id": "cvBlx9A3CPbh"
      },
      "execution_count": null,
      "outputs": []
    },
    {
      "cell_type": "code",
      "source": [
        "# Print and show blockchain\n",
        "print('Blockchain:')\n",
        "for block in blockchain.chain:\n",
        "  print('Data:', block.data)\n",
        "  print('Previous hash:', block.prev_hash)\n",
        "  print('Hash:', block.hash)\n",
        "  print()"
      ],
      "metadata": {
        "colab": {
          "base_uri": "https://localhost:8080/"
        },
        "id": "gL8YWmC-Cbwk",
        "outputId": "31015dd4-2c18-4059-b78f-964069264985"
      },
      "execution_count": null,
      "outputs": [
        {
          "output_type": "stream",
          "name": "stdout",
          "text": [
            "Blockchain:\n",
            "Data: Genesis Block\n",
            "Previous hash: 0\n",
            "Hash: 89eb0ac031a63d2421cd05a2fbe41f3ea35f5c3712ca839cbf6b85c4ee07b7a3\n",
            "\n",
            "Data: First block\n",
            "Previous hash: 89eb0ac031a63d2421cd05a2fbe41f3ea35f5c3712ca839cbf6b85c4ee07b7a3\n",
            "Hash: 876fb923a443ba6afe5fb32dd79961e85be2b582cf74c233842b630ae16fe4d9\n",
            "\n",
            "Data: Second block\n",
            "Previous hash: 876fb923a443ba6afe5fb32dd79961e85be2b582cf74c233842b630ae16fe4d9\n",
            "Hash: 8e2fb9e02898feb024dff05ee0b27fd5ea0a448e252d975e6ec5f7b0a252a6cd\n",
            "\n",
            "Data: Third block\n",
            "Previous hash: 8e2fb9e02898feb024dff05ee0b27fd5ea0a448e252d975e6ec5f7b0a252a6cd\n",
            "Hash: 06e369fbfbe5362a8115a5c6f3e2d3ec7292cc4272052dcc3280898e3206208d\n",
            "\n"
          ]
        }
      ]
    }
  ]
}